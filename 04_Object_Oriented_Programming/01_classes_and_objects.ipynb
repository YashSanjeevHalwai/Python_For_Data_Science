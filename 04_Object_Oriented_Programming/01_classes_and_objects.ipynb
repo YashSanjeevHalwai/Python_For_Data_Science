{
 "cells": [
  {
   "cell_type": "markdown",
   "id": "b485b1ff",
   "metadata": {},
   "source": [
    "# OOPs\n"
   ]
  },
  {
   "cell_type": "markdown",
   "id": "15cf5086",
   "metadata": {},
   "source": [
    "- Object Oriented Programming Systems\n",
    "- Classes and Objects\n",
    "- Abstraction, Encapsulaton, Inheritance & Polymorphism"
   ]
  },
  {
   "cell_type": "markdown",
   "id": "df50c387",
   "metadata": {},
   "source": [
    "Class\n",
    "- classes are the blue print of any real world entity\n",
    "- e.g Human"
   ]
  },
  {
   "cell_type": "code",
   "execution_count": 1,
   "id": "8b24fdad",
   "metadata": {},
   "outputs": [],
   "source": [
    "class Human():\n",
    "    pass"
   ]
  },
  {
   "cell_type": "markdown",
   "id": "90f0ab72",
   "metadata": {},
   "source": [
    "Object\n",
    "- objects are the instances of the classes\n",
    "- e.g Yash is an instance of Human class"
   ]
  },
  {
   "cell_type": "code",
   "execution_count": 2,
   "id": "d2083780",
   "metadata": {},
   "outputs": [],
   "source": [
    "yash = Human()"
   ]
  },
  {
   "cell_type": "code",
   "execution_count": 3,
   "id": "f6491ee3",
   "metadata": {},
   "outputs": [
    {
     "data": {
      "text/plain": [
       "__main__.Human"
      ]
     },
     "execution_count": 3,
     "metadata": {},
     "output_type": "execute_result"
    }
   ],
   "source": [
    "type(yash)"
   ]
  },
  {
   "cell_type": "code",
   "execution_count": 4,
   "id": "7e23d615",
   "metadata": {},
   "outputs": [
    {
     "name": "stdout",
     "output_type": "stream",
     "text": [
      "<class 'int'>\n"
     ]
    }
   ],
   "source": [
    "print(type(1))"
   ]
  }
 ],
 "metadata": {
  "kernelspec": {
   "display_name": "Python 3 (ipykernel)",
   "language": "python",
   "name": "python3"
  },
  "language_info": {
   "codemirror_mode": {
    "name": "ipython",
    "version": 3
   },
   "file_extension": ".py",
   "mimetype": "text/x-python",
   "name": "python",
   "nbconvert_exporter": "python",
   "pygments_lexer": "ipython3",
   "version": "3.9.7"
  }
 },
 "nbformat": 4,
 "nbformat_minor": 5
}
