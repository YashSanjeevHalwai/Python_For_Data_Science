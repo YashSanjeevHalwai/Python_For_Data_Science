{
 "cells": [
  {
   "cell_type": "markdown",
   "id": "360330d6",
   "metadata": {},
   "source": [
    "# Defining the constructor of a class"
   ]
  },
  {
   "cell_type": "markdown",
   "id": "238bda2d",
   "metadata": {},
   "source": [
    "A constructor is a special member function of a class that is executed whenever we create new objects of that class.\n",
    "\n",
    "  def __ init __ (self):\n",
    "      \n",
    "      ...\n",
    "      ..."
   ]
  },
  {
   "cell_type": "code",
   "execution_count": 4,
   "id": "910c917d",
   "metadata": {},
   "outputs": [],
   "source": [
    "class Human:\n",
    "    # constructor\n",
    "    def __init__(self,name,age):\n",
    "        print(\"Creating an Object...\")\n",
    "        # instance variable\n",
    "        self.name = name\n",
    "        self.age = age"
   ]
  },
  {
   "cell_type": "code",
   "execution_count": 5,
   "id": "de578814",
   "metadata": {},
   "outputs": [
    {
     "name": "stdout",
     "output_type": "stream",
     "text": [
      "Creating an Object...\n"
     ]
    }
   ],
   "source": [
    "h1 = Human(\"Yash\", 19)"
   ]
  },
  {
   "cell_type": "code",
   "execution_count": 6,
   "id": "6643de53",
   "metadata": {},
   "outputs": [
    {
     "name": "stdout",
     "output_type": "stream",
     "text": [
      "<__main__.Human object at 0x00000230417625B0>\n"
     ]
    }
   ],
   "source": [
    "print(h1)"
   ]
  },
  {
   "cell_type": "code",
   "execution_count": 7,
   "id": "afaf70b9",
   "metadata": {},
   "outputs": [
    {
     "name": "stdout",
     "output_type": "stream",
     "text": [
      "Yash\n"
     ]
    }
   ],
   "source": [
    "print(h1.name)"
   ]
  },
  {
   "cell_type": "code",
   "execution_count": 8,
   "id": "9ecb7487",
   "metadata": {},
   "outputs": [
    {
     "name": "stdout",
     "output_type": "stream",
     "text": [
      "19\n"
     ]
    }
   ],
   "source": [
    "print(h1.age)"
   ]
  },
  {
   "cell_type": "code",
   "execution_count": 9,
   "id": "e5cf3f23",
   "metadata": {},
   "outputs": [
    {
     "name": "stdout",
     "output_type": "stream",
     "text": [
      "Creating an Object...\n"
     ]
    }
   ],
   "source": [
    "h2 = Human(\"Dhoni\",40)"
   ]
  },
  {
   "cell_type": "code",
   "execution_count": 10,
   "id": "5de5e789",
   "metadata": {},
   "outputs": [
    {
     "name": "stdout",
     "output_type": "stream",
     "text": [
      "Dhoni\n"
     ]
    }
   ],
   "source": [
    "print(h2.name)"
   ]
  },
  {
   "cell_type": "code",
   "execution_count": 11,
   "id": "fddb2297",
   "metadata": {},
   "outputs": [
    {
     "name": "stdout",
     "output_type": "stream",
     "text": [
      "40\n"
     ]
    }
   ],
   "source": [
    "print(h2.age)"
   ]
  },
  {
   "cell_type": "code",
   "execution_count": null,
   "id": "56ce5e45",
   "metadata": {},
   "outputs": [],
   "source": []
  }
 ],
 "metadata": {
  "kernelspec": {
   "display_name": "Python 3 (ipykernel)",
   "language": "python",
   "name": "python3"
  },
  "language_info": {
   "codemirror_mode": {
    "name": "ipython",
    "version": 3
   },
   "file_extension": ".py",
   "mimetype": "text/x-python",
   "name": "python",
   "nbconvert_exporter": "python",
   "pygments_lexer": "ipython3",
   "version": "3.9.7"
  }
 },
 "nbformat": 4,
 "nbformat_minor": 5
}
