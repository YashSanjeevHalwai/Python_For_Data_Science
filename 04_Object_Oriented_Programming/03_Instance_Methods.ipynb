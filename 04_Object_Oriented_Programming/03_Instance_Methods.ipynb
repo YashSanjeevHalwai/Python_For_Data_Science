{
 "cells": [
  {
   "cell_type": "markdown",
   "id": "0072f469",
   "metadata": {},
   "source": [
    "# Defining the method of instance\n",
    "      \n",
    "      def introduce(self)\n",
    "      \n",
    "          . . .\n",
    "          . . ."
   ]
  },
  {
   "cell_type": "code",
   "execution_count": 9,
   "id": "81481e69",
   "metadata": {},
   "outputs": [],
   "source": [
    "class Human():\n",
    "    \n",
    "    # constructor\n",
    "    def __init__(self,name,age):\n",
    "        print(\"creating an object...\")\n",
    "        \n",
    "        # instance variable\n",
    "        self.name = name\n",
    "        self.age = age\n",
    "        \n",
    "    def introduce(self):\n",
    "        print(\"Hi, my name is\", self.name, \"My age is \", self.age)"
   ]
  },
  {
   "cell_type": "code",
   "execution_count": 10,
   "id": "a0252327",
   "metadata": {},
   "outputs": [
    {
     "name": "stdout",
     "output_type": "stream",
     "text": [
      "creating an object...\n",
      "creating an object...\n"
     ]
    }
   ],
   "source": [
    "h1 = Human(\"Yash\", 19)\n",
    "h2 = Human(\"MSD\", 40)"
   ]
  },
  {
   "cell_type": "code",
   "execution_count": 11,
   "id": "757df64f",
   "metadata": {},
   "outputs": [
    {
     "name": "stdout",
     "output_type": "stream",
     "text": [
      "Hi, my name is Yash My age is  19\n"
     ]
    }
   ],
   "source": [
    "h1.introduce()"
   ]
  },
  {
   "cell_type": "code",
   "execution_count": 12,
   "id": "077f43af",
   "metadata": {},
   "outputs": [
    {
     "name": "stdout",
     "output_type": "stream",
     "text": [
      "Hi, my name is MSD My age is  40\n"
     ]
    }
   ],
   "source": [
    "h2.introduce()"
   ]
  },
  {
   "cell_type": "code",
   "execution_count": 13,
   "id": "be0b1b28",
   "metadata": {},
   "outputs": [
    {
     "name": "stdout",
     "output_type": "stream",
     "text": [
      "MSD\n"
     ]
    }
   ],
   "source": [
    "print(h2.name)"
   ]
  },
  {
   "cell_type": "code",
   "execution_count": 14,
   "id": "d1d9a566",
   "metadata": {},
   "outputs": [
    {
     "name": "stdout",
     "output_type": "stream",
     "text": [
      "Yash\n"
     ]
    }
   ],
   "source": [
    "print(h1.name)"
   ]
  },
  {
   "cell_type": "code",
   "execution_count": null,
   "id": "50ccda81",
   "metadata": {},
   "outputs": [],
   "source": []
  }
 ],
 "metadata": {
  "kernelspec": {
   "display_name": "Python 3 (ipykernel)",
   "language": "python",
   "name": "python3"
  },
  "language_info": {
   "codemirror_mode": {
    "name": "ipython",
    "version": 3
   },
   "file_extension": ".py",
   "mimetype": "text/x-python",
   "name": "python",
   "nbconvert_exporter": "python",
   "pygments_lexer": "ipython3",
   "version": "3.9.7"
  }
 },
 "nbformat": 4,
 "nbformat_minor": 5
}
