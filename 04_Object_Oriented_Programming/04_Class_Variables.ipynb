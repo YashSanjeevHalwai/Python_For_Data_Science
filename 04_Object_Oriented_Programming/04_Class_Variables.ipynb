{
 "cells": [
  {
   "cell_type": "markdown",
   "id": "7274dff5",
   "metadata": {},
   "source": [
    "# Class Variable\n",
    " - Class variables are common to all instances\n",
    " - They are associated with the class "
   ]
  },
  {
   "cell_type": "code",
   "execution_count": 11,
   "id": "e9b84480",
   "metadata": {},
   "outputs": [],
   "source": [
    "class Human():\n",
    "    \n",
    "    # class variable\n",
    "    database = []\n",
    "    population = 0\n",
    "    id_seq = 101\n",
    "    \n",
    "    # constructor\n",
    "    def __init__(self, name, age, is_alive = True):\n",
    "        # instance variables\n",
    "        self.name = name\n",
    "        self.age = age\n",
    "        self.is_alive = is_alive\n",
    "        \n",
    "        # adding id of an object\n",
    "        self.id = Human.id_seq\n",
    "        Human.id_seq += 1\n",
    "        Human.population += 1\n",
    "        Human.database.append(self)\n",
    "        \n",
    "    def introduce(self):\n",
    "        print(\"Hi, My name is\", self.name,\"My age is\", age.name)"
   ]
  },
  {
   "cell_type": "code",
   "execution_count": 12,
   "id": "d84def22",
   "metadata": {},
   "outputs": [],
   "source": [
    "h1 = Human(\"Yash\", 20)"
   ]
  },
  {
   "cell_type": "code",
   "execution_count": 13,
   "id": "09c0722e",
   "metadata": {},
   "outputs": [
    {
     "name": "stdout",
     "output_type": "stream",
     "text": [
      "True\n"
     ]
    }
   ],
   "source": [
    "print(h1.is_alive)"
   ]
  },
  {
   "cell_type": "code",
   "execution_count": 14,
   "id": "7a6e0c21",
   "metadata": {},
   "outputs": [
    {
     "name": "stdout",
     "output_type": "stream",
     "text": [
      "101\n"
     ]
    }
   ],
   "source": [
    "print(h1.id)"
   ]
  },
  {
   "cell_type": "code",
   "execution_count": 15,
   "id": "a7bac3f3",
   "metadata": {},
   "outputs": [
    {
     "data": {
      "text/plain": [
       "1"
      ]
     },
     "execution_count": 15,
     "metadata": {},
     "output_type": "execute_result"
    }
   ],
   "source": [
    "Human.population"
   ]
  },
  {
   "cell_type": "code",
   "execution_count": 16,
   "id": "70879943",
   "metadata": {},
   "outputs": [
    {
     "data": {
      "text/plain": [
       "'Yash'"
      ]
     },
     "execution_count": 16,
     "metadata": {},
     "output_type": "execute_result"
    }
   ],
   "source": [
    "Human.database[0].name"
   ]
  },
  {
   "cell_type": "code",
   "execution_count": 19,
   "id": "f665dd9d",
   "metadata": {},
   "outputs": [],
   "source": [
    "h2 = Human(\"Om\", 15)"
   ]
  },
  {
   "cell_type": "code",
   "execution_count": 21,
   "id": "158a6a6e",
   "metadata": {},
   "outputs": [
    {
     "data": {
      "text/plain": [
       "2"
      ]
     },
     "execution_count": 21,
     "metadata": {},
     "output_type": "execute_result"
    }
   ],
   "source": [
    "Human.population"
   ]
  },
  {
   "cell_type": "code",
   "execution_count": 22,
   "id": "508e903d",
   "metadata": {},
   "outputs": [
    {
     "data": {
      "text/plain": [
       "'Om'"
      ]
     },
     "execution_count": 22,
     "metadata": {},
     "output_type": "execute_result"
    }
   ],
   "source": [
    "Human.database[1].name"
   ]
  },
  {
   "cell_type": "code",
   "execution_count": 23,
   "id": "5aceec75",
   "metadata": {},
   "outputs": [
    {
     "name": "stdout",
     "output_type": "stream",
     "text": [
      "102\n"
     ]
    }
   ],
   "source": [
    "print(h2.id)"
   ]
  }
 ],
 "metadata": {
  "kernelspec": {
   "display_name": "Python 3 (ipykernel)",
   "language": "python",
   "name": "python3"
  },
  "language_info": {
   "codemirror_mode": {
    "name": "ipython",
    "version": 3
   },
   "file_extension": ".py",
   "mimetype": "text/x-python",
   "name": "python",
   "nbconvert_exporter": "python",
   "pygments_lexer": "ipython3",
   "version": "3.9.7"
  }
 },
 "nbformat": 4,
 "nbformat_minor": 5
}
