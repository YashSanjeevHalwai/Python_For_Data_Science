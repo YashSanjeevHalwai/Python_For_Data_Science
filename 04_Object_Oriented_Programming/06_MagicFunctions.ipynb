{
 "cells": [
  {
   "cell_type": "markdown",
   "id": "79ca23ab",
   "metadata": {},
   "source": [
    "# Magic Functions\n"
   ]
  },
  {
   "cell_type": "markdown",
   "id": "7660467a",
   "metadata": {},
   "source": [
    "- They are called automatically when some particular event occured\n",
    "\n"
   ]
  },
  {
   "cell_type": "code",
   "execution_count": 1,
   "id": "0e4d2b2a",
   "metadata": {},
   "outputs": [],
   "source": [
    "# e.g: __repr__, __init__, __str__"
   ]
  },
  {
   "cell_type": "code",
   "execution_count": 13,
   "id": "0cbf861d",
   "metadata": {},
   "outputs": [],
   "source": [
    "class Human():\n",
    "    \n",
    "    #class variable\n",
    "    database = []\n",
    "    population = 0\n",
    "    id_seq = 101\n",
    "    \n",
    "    #constructor\n",
    "    def __init__(self, name, age, is_alive = True):\n",
    "        #instance variables\n",
    "        self.name = name\n",
    "        self.age = age\n",
    "        self.is_alive = is_alive\n",
    "        \n",
    "        #adding id of an object\n",
    "        self.id = Human.id_seq\n",
    "        Human.id_seq += 1\n",
    "        Human.population += 1\n",
    "        Human.database.append(self)\n",
    "        \n",
    "    def introduce(self):\n",
    "        print(\"Hi, my name is\", self.name, \"My age is\", self.age)\n",
    "    \n",
    "    def die(self):\n",
    "        if(self.is_alive):\n",
    "            print(self.name, \"is dying\")\n",
    "            self.is_alive = False\n",
    "            Human.population -= 1\n",
    "        else:\n",
    "            print(\"{} is already dead\".format(self.name))\n",
    "            \n",
    "    # magic functions...\n",
    "    def __repr__(self):\n",
    "        \"\"\"\n",
    "        This function needs to return a string\n",
    "        \"\"\"\n",
    "        return\"[{}, {}, {}, {}]\".format(self.id, self.name, self.age, self.is_alive)"
   ]
  },
  {
   "cell_type": "code",
   "execution_count": 14,
   "id": "594e3ce6",
   "metadata": {},
   "outputs": [],
   "source": [
    "h1 = Human(\"M\", 15)\n",
    "h2 = Human(\"P\", 18)"
   ]
  },
  {
   "cell_type": "code",
   "execution_count": 15,
   "id": "58da57ef",
   "metadata": {},
   "outputs": [
    {
     "name": "stdout",
     "output_type": "stream",
     "text": [
      "[101, M, 15, True]\n"
     ]
    }
   ],
   "source": [
    "print(h1)"
   ]
  },
  {
   "cell_type": "code",
   "execution_count": 16,
   "id": "9426af6b",
   "metadata": {},
   "outputs": [
    {
     "name": "stdout",
     "output_type": "stream",
     "text": [
      "[102, P, 18, True]\n"
     ]
    }
   ],
   "source": [
    "print(h2)"
   ]
  },
  {
   "cell_type": "code",
   "execution_count": 17,
   "id": "60a1c964",
   "metadata": {},
   "outputs": [
    {
     "data": {
      "text/plain": [
       "[[101, M, 15, True], [102, P, 18, True]]"
      ]
     },
     "execution_count": 17,
     "metadata": {},
     "output_type": "execute_result"
    }
   ],
   "source": [
    "Human.database"
   ]
  },
  {
   "cell_type": "code",
   "execution_count": 18,
   "id": "0cfdad34",
   "metadata": {},
   "outputs": [
    {
     "name": "stdout",
     "output_type": "stream",
     "text": [
      "M is dying\n"
     ]
    }
   ],
   "source": [
    "h1.die()"
   ]
  },
  {
   "cell_type": "code",
   "execution_count": 19,
   "id": "822311d9",
   "metadata": {},
   "outputs": [
    {
     "data": {
      "text/plain": [
       "[[101, M, 15, False], [102, P, 18, True]]"
      ]
     },
     "execution_count": 19,
     "metadata": {},
     "output_type": "execute_result"
    }
   ],
   "source": [
    "Human.database"
   ]
  },
  {
   "cell_type": "code",
   "execution_count": 20,
   "id": "6211fde9",
   "metadata": {},
   "outputs": [
    {
     "data": {
      "text/plain": [
       "['__class__',\n",
       " '__delattr__',\n",
       " '__dict__',\n",
       " '__dir__',\n",
       " '__doc__',\n",
       " '__eq__',\n",
       " '__format__',\n",
       " '__ge__',\n",
       " '__getattribute__',\n",
       " '__gt__',\n",
       " '__hash__',\n",
       " '__init__',\n",
       " '__init_subclass__',\n",
       " '__le__',\n",
       " '__lt__',\n",
       " '__module__',\n",
       " '__ne__',\n",
       " '__new__',\n",
       " '__reduce__',\n",
       " '__reduce_ex__',\n",
       " '__repr__',\n",
       " '__setattr__',\n",
       " '__sizeof__',\n",
       " '__str__',\n",
       " '__subclasshook__',\n",
       " '__weakref__',\n",
       " 'age',\n",
       " 'database',\n",
       " 'die',\n",
       " 'id',\n",
       " 'id_seq',\n",
       " 'introduce',\n",
       " 'is_alive',\n",
       " 'name',\n",
       " 'population']"
      ]
     },
     "execution_count": 20,
     "metadata": {},
     "output_type": "execute_result"
    }
   ],
   "source": [
    "dir(h1)"
   ]
  },
  {
   "cell_type": "code",
   "execution_count": null,
   "id": "c3f72d4b",
   "metadata": {},
   "outputs": [],
   "source": []
  }
 ],
 "metadata": {
  "kernelspec": {
   "display_name": "Python 3 (ipykernel)",
   "language": "python",
   "name": "python3"
  },
  "language_info": {
   "codemirror_mode": {
    "name": "ipython",
    "version": 3
   },
   "file_extension": ".py",
   "mimetype": "text/x-python",
   "name": "python",
   "nbconvert_exporter": "python",
   "pygments_lexer": "ipython3",
   "version": "3.9.7"
  }
 },
 "nbformat": 4,
 "nbformat_minor": 5
}
